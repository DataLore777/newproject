{
    "metadata": {
        "kernelspec": {
            "name": "SQL",
            "display_name": "SQL",
            "language": "sql"
        },
        "language_info": {
            "name": "sql",
            "version": ""
        }
    },
    "nbformat_minor": 2,
    "nbformat": 4,
    "cells": [
        {
            "cell_type": "code",
            "source": [
                "USE master;\r\n",
                "GO\r\n",
                "\r\n",
                "CREATE TABLE subscriber_data (\r\n",
                "    channel_id INT,\r\n",
                "    channel_name VARCHAR,\r\n",
                "    brand_channel BIT,\r\n",
                "    subscribers INT,\r\n",
                "    primary_language VARCHAR,\r\n",
                "    category VARCHAR,\r\n",
                "    country VARCHAR\r\n",
                ");"
            ],
            "metadata": {
                "azdata_cell_guid": "60f25bef-e525-490e-be29-b13f811f53c4",
                "language": "sql"
            },
            "outputs": [
                {
                    "output_type": "display_data",
                    "data": {
                        "text/html": "Commands completed successfully."
                    },
                    "metadata": {}
                },
                {
                    "output_type": "display_data",
                    "data": {
                        "text/html": "Commands completed successfully."
                    },
                    "metadata": {}
                },
                {
                    "output_type": "display_data",
                    "data": {
                        "text/html": "Total execution time: 00:00:00.052"
                    },
                    "metadata": {}
                }
            ],
            "execution_count": 4
        },
        {
            "cell_type": "code",
            "source": [
                "BULK INSERT  master.dbo.subscriber_data\r\n",
                "\r\n",
                "FROM 'C:\\Users\\willm\\Desktop\\launchcode\\newproject\\Projects\\ytdata'\r\n",
                "\r\n",
                "WITH (\r\n",
                "    FIRSTROW = 2,\r\n",
                "    FIELDTERMINATOR = ',',\r\n",
                "    ROWTERMINATOR = '\\n',\r\n",
                "    TABLOCK\r\n",
                ");"
            ],
            "metadata": {
                "language": "sql",
                "azdata_cell_guid": "7bc4a83c-b171-4206-a361-13d4fd290972"
            },
            "outputs": [
                {
                    "output_type": "error",
                    "ename": "",
                    "evalue": "Msg 4861, Level 16, State 1, Line 1\r\nCannot bulk load because the file \"C:\\Users\\willm\\Desktop\\launchcode\\newproject\\Projects\\ytdata\" could not be opened. Operating system error code 5(Access is denied.).",
                    "traceback": []
                },
                {
                    "output_type": "display_data",
                    "data": {
                        "text/html": "Total execution time: 00:00:00.204"
                    },
                    "metadata": {}
                }
            ],
            "execution_count": 9
        }
    ]
}